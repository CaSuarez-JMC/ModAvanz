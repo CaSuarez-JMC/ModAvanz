{
 "cells": [
  {
   "cell_type": "markdown",
   "metadata": {},
   "source": [
    "![texto alternativo](https://drive.google.com/uc?id=1CXVh-Dy6T792nWexE0kH45AOqqFj2_wG)\n",
    "\n",
    "\n",
    "<center> <h1>Maestría en Analytics</h1> </center>\n",
    "<center> <h1>Modelos Avanzados para el Análisis de Datos 1</h1> </center>\n",
    "<center> <h1>Exercise 12 - Sentiment Prediction </h1> </center>\n",
    "\n",
    "**Grupo 1**\n",
    "- Camilo Andrés Suarez\n",
    "- Nestor Fabian Cholo\n",
    "- Germán Guillermo Torres\n",
    "\n",
    "12 July 2020"
   ]
  },
  {
   "cell_type": "markdown",
   "metadata": {},
   "source": [
    "# Exercise 12\n",
    "\n",
    "## Analyze how travelers expressed their feelings on Twitter\n",
    "\n",
    "A sentiment analysis job about the problems of each major U.S. airline. \n",
    "Twitter data was scraped from February of 2015 and contributors were \n",
    "asked to first classify positive, negative, and neutral tweets, followed\n",
    "by categorizing negative reasons (such as \"late flight\" or \"rude service\")."
   ]
  },
  {
   "cell_type": "code",
   "execution_count": 4,
   "metadata": {},
   "outputs": [
    {
     "data": {
      "text/html": [
       "<div>\n",
       "<style scoped>\n",
       "    .dataframe tbody tr th:only-of-type {\n",
       "        vertical-align: middle;\n",
       "    }\n",
       "\n",
       "    .dataframe tbody tr th {\n",
       "        vertical-align: top;\n",
       "    }\n",
       "\n",
       "    .dataframe thead th {\n",
       "        text-align: right;\n",
       "    }\n",
       "</style>\n",
       "<table border=\"1\" class=\"dataframe\">\n",
       "  <thead>\n",
       "    <tr style=\"text-align: right;\">\n",
       "      <th></th>\n",
       "      <th>airline_sentiment</th>\n",
       "      <th>airline_sentiment_confidence</th>\n",
       "      <th>negativereason</th>\n",
       "      <th>negativereason_confidence</th>\n",
       "      <th>airline</th>\n",
       "      <th>airline_sentiment_gold</th>\n",
       "      <th>name</th>\n",
       "      <th>negativereason_gold</th>\n",
       "      <th>retweet_count</th>\n",
       "      <th>text</th>\n",
       "      <th>tweet_coord</th>\n",
       "      <th>tweet_created</th>\n",
       "      <th>tweet_location</th>\n",
       "      <th>user_timezone</th>\n",
       "    </tr>\n",
       "    <tr>\n",
       "      <th>tweet_id</th>\n",
       "      <th></th>\n",
       "      <th></th>\n",
       "      <th></th>\n",
       "      <th></th>\n",
       "      <th></th>\n",
       "      <th></th>\n",
       "      <th></th>\n",
       "      <th></th>\n",
       "      <th></th>\n",
       "      <th></th>\n",
       "      <th></th>\n",
       "      <th></th>\n",
       "      <th></th>\n",
       "      <th></th>\n",
       "    </tr>\n",
       "  </thead>\n",
       "  <tbody>\n",
       "    <tr>\n",
       "      <th>570306133677760513</th>\n",
       "      <td>neutral</td>\n",
       "      <td>1.0000</td>\n",
       "      <td>NaN</td>\n",
       "      <td>NaN</td>\n",
       "      <td>Virgin America</td>\n",
       "      <td>NaN</td>\n",
       "      <td>cairdin</td>\n",
       "      <td>NaN</td>\n",
       "      <td>0</td>\n",
       "      <td>@VirginAmerica What @dhepburn said.</td>\n",
       "      <td>NaN</td>\n",
       "      <td>2015-02-24 11:35:52 -0800</td>\n",
       "      <td>NaN</td>\n",
       "      <td>Eastern Time (US &amp; Canada)</td>\n",
       "    </tr>\n",
       "    <tr>\n",
       "      <th>570301130888122368</th>\n",
       "      <td>positive</td>\n",
       "      <td>0.3486</td>\n",
       "      <td>NaN</td>\n",
       "      <td>0.0000</td>\n",
       "      <td>Virgin America</td>\n",
       "      <td>NaN</td>\n",
       "      <td>jnardino</td>\n",
       "      <td>NaN</td>\n",
       "      <td>0</td>\n",
       "      <td>@VirginAmerica plus you've added commercials t...</td>\n",
       "      <td>NaN</td>\n",
       "      <td>2015-02-24 11:15:59 -0800</td>\n",
       "      <td>NaN</td>\n",
       "      <td>Pacific Time (US &amp; Canada)</td>\n",
       "    </tr>\n",
       "    <tr>\n",
       "      <th>570301083672813571</th>\n",
       "      <td>neutral</td>\n",
       "      <td>0.6837</td>\n",
       "      <td>NaN</td>\n",
       "      <td>NaN</td>\n",
       "      <td>Virgin America</td>\n",
       "      <td>NaN</td>\n",
       "      <td>yvonnalynn</td>\n",
       "      <td>NaN</td>\n",
       "      <td>0</td>\n",
       "      <td>@VirginAmerica I didn't today... Must mean I n...</td>\n",
       "      <td>NaN</td>\n",
       "      <td>2015-02-24 11:15:48 -0800</td>\n",
       "      <td>Lets Play</td>\n",
       "      <td>Central Time (US &amp; Canada)</td>\n",
       "    </tr>\n",
       "    <tr>\n",
       "      <th>570301031407624196</th>\n",
       "      <td>negative</td>\n",
       "      <td>1.0000</td>\n",
       "      <td>Bad Flight</td>\n",
       "      <td>0.7033</td>\n",
       "      <td>Virgin America</td>\n",
       "      <td>NaN</td>\n",
       "      <td>jnardino</td>\n",
       "      <td>NaN</td>\n",
       "      <td>0</td>\n",
       "      <td>@VirginAmerica it's really aggressive to blast...</td>\n",
       "      <td>NaN</td>\n",
       "      <td>2015-02-24 11:15:36 -0800</td>\n",
       "      <td>NaN</td>\n",
       "      <td>Pacific Time (US &amp; Canada)</td>\n",
       "    </tr>\n",
       "    <tr>\n",
       "      <th>570300817074462722</th>\n",
       "      <td>negative</td>\n",
       "      <td>1.0000</td>\n",
       "      <td>Can't Tell</td>\n",
       "      <td>1.0000</td>\n",
       "      <td>Virgin America</td>\n",
       "      <td>NaN</td>\n",
       "      <td>jnardino</td>\n",
       "      <td>NaN</td>\n",
       "      <td>0</td>\n",
       "      <td>@VirginAmerica and it's a really big bad thing...</td>\n",
       "      <td>NaN</td>\n",
       "      <td>2015-02-24 11:14:45 -0800</td>\n",
       "      <td>NaN</td>\n",
       "      <td>Pacific Time (US &amp; Canada)</td>\n",
       "    </tr>\n",
       "  </tbody>\n",
       "</table>\n",
       "</div>"
      ],
      "text/plain": [
       "                   airline_sentiment  airline_sentiment_confidence  \\\n",
       "tweet_id                                                             \n",
       "570306133677760513           neutral                        1.0000   \n",
       "570301130888122368          positive                        0.3486   \n",
       "570301083672813571           neutral                        0.6837   \n",
       "570301031407624196          negative                        1.0000   \n",
       "570300817074462722          negative                        1.0000   \n",
       "\n",
       "                   negativereason  negativereason_confidence         airline  \\\n",
       "tweet_id                                                                       \n",
       "570306133677760513            NaN                        NaN  Virgin America   \n",
       "570301130888122368            NaN                     0.0000  Virgin America   \n",
       "570301083672813571            NaN                        NaN  Virgin America   \n",
       "570301031407624196     Bad Flight                     0.7033  Virgin America   \n",
       "570300817074462722     Can't Tell                     1.0000  Virgin America   \n",
       "\n",
       "                   airline_sentiment_gold        name negativereason_gold  \\\n",
       "tweet_id                                                                    \n",
       "570306133677760513                    NaN     cairdin                 NaN   \n",
       "570301130888122368                    NaN    jnardino                 NaN   \n",
       "570301083672813571                    NaN  yvonnalynn                 NaN   \n",
       "570301031407624196                    NaN    jnardino                 NaN   \n",
       "570300817074462722                    NaN    jnardino                 NaN   \n",
       "\n",
       "                    retweet_count  \\\n",
       "tweet_id                            \n",
       "570306133677760513              0   \n",
       "570301130888122368              0   \n",
       "570301083672813571              0   \n",
       "570301031407624196              0   \n",
       "570300817074462722              0   \n",
       "\n",
       "                                                                 text  \\\n",
       "tweet_id                                                                \n",
       "570306133677760513                @VirginAmerica What @dhepburn said.   \n",
       "570301130888122368  @VirginAmerica plus you've added commercials t...   \n",
       "570301083672813571  @VirginAmerica I didn't today... Must mean I n...   \n",
       "570301031407624196  @VirginAmerica it's really aggressive to blast...   \n",
       "570300817074462722  @VirginAmerica and it's a really big bad thing...   \n",
       "\n",
       "                   tweet_coord              tweet_created tweet_location  \\\n",
       "tweet_id                                                                   \n",
       "570306133677760513         NaN  2015-02-24 11:35:52 -0800            NaN   \n",
       "570301130888122368         NaN  2015-02-24 11:15:59 -0800            NaN   \n",
       "570301083672813571         NaN  2015-02-24 11:15:48 -0800      Lets Play   \n",
       "570301031407624196         NaN  2015-02-24 11:15:36 -0800            NaN   \n",
       "570300817074462722         NaN  2015-02-24 11:14:45 -0800            NaN   \n",
       "\n",
       "                                 user_timezone  \n",
       "tweet_id                                        \n",
       "570306133677760513  Eastern Time (US & Canada)  \n",
       "570301130888122368  Pacific Time (US & Canada)  \n",
       "570301083672813571  Central Time (US & Canada)  \n",
       "570301031407624196  Pacific Time (US & Canada)  \n",
       "570300817074462722  Pacific Time (US & Canada)  "
      ]
     },
     "execution_count": 4,
     "metadata": {},
     "output_type": "execute_result"
    }
   ],
   "source": [
    "import pandas as pd\n",
    "import numpy as np\n",
    "import scipy as sp\n",
    "from sklearn.model_selection import train_test_split, cross_val_score\n",
    "from sklearn.feature_extraction.text import CountVectorizer, TfidfVectorizer\n",
    "from sklearn.naive_bayes import MultinomialNB\n",
    "from sklearn.linear_model import LogisticRegression\n",
    "from sklearn import metrics\n",
    "# from textblob import TextBlob, Word\n",
    "from nltk.stem.snowball import SnowballStemmer\n",
    "\n",
    "\n",
    "\n",
    "%matplotlib inline\n",
    "import matplotlib.pyplot as plt\n",
    "\n",
    "# read the data and set the datetime as the index\n",
    "tweets = pd.read_csv('https://github.com/albahnsen/PracticalMachineLearningClass/raw/master/datasets/Tweets.zip', index_col=0)\n",
    "\n",
    "tweets.head()"
   ]
  },
  {
   "cell_type": "code",
   "execution_count": 2,
   "metadata": {},
   "outputs": [
    {
     "data": {
      "text/plain": [
       "(14640, 14)"
      ]
     },
     "execution_count": 2,
     "metadata": {},
     "output_type": "execute_result"
    }
   ],
   "source": [
    "tweets.shape"
   ]
  },
  {
   "cell_type": "code",
   "execution_count": 5,
   "metadata": {},
   "outputs": [
    {
     "data": {
      "text/plain": [
       "tweet_id\n",
       "570306133677760513                  @VirginAmerica What @dhepburn said.\n",
       "570301130888122368    @VirginAmerica plus you've added commercials t...\n",
       "570301083672813571    @VirginAmerica I didn't today... Must mean I n...\n",
       "570301031407624196    @VirginAmerica it's really aggressive to blast...\n",
       "570300817074462722    @VirginAmerica and it's a really big bad thing...\n",
       "                                            ...                        \n",
       "569587686496825344    @AmericanAir thank you we got on a different f...\n",
       "569587371693355008    @AmericanAir leaving over 20 minutes Late Flig...\n",
       "569587242672398336    @AmericanAir Please bring American Airlines to...\n",
       "569587188687634433    @AmericanAir you have my money, you change my ...\n",
       "569587140490866689    @AmericanAir we have 8 ppl so we need 2 know h...\n",
       "Name: text, Length: 14640, dtype: object"
      ]
     },
     "execution_count": 5,
     "metadata": {},
     "output_type": "execute_result"
    }
   ],
   "source": [
    "tweets['text']"
   ]
  },
  {
   "cell_type": "markdown",
   "metadata": {},
   "source": [
    "### Proportion of tweets with each sentiment"
   ]
  },
  {
   "cell_type": "code",
   "execution_count": 6,
   "metadata": {},
   "outputs": [
    {
     "data": {
      "text/plain": [
       "negative    9178\n",
       "neutral     3099\n",
       "positive    2363\n",
       "Name: airline_sentiment, dtype: int64"
      ]
     },
     "execution_count": 6,
     "metadata": {},
     "output_type": "execute_result"
    }
   ],
   "source": [
    "tweets['airline_sentiment'].value_counts()"
   ]
  },
  {
   "cell_type": "markdown",
   "metadata": {},
   "source": [
    "### Proportion of tweets per airline\n"
   ]
  },
  {
   "cell_type": "code",
   "execution_count": 7,
   "metadata": {},
   "outputs": [
    {
     "data": {
      "text/plain": [
       "United            3822\n",
       "US Airways        2913\n",
       "American          2759\n",
       "Southwest         2420\n",
       "Delta             2222\n",
       "Virgin America     504\n",
       "Name: airline, dtype: int64"
      ]
     },
     "execution_count": 7,
     "metadata": {},
     "output_type": "execute_result"
    }
   ],
   "source": [
    "tweets['airline'].value_counts()"
   ]
  },
  {
   "cell_type": "code",
   "execution_count": 8,
   "metadata": {},
   "outputs": [
    {
     "data": {
      "text/plain": [
       "<matplotlib.axes._subplots.AxesSubplot at 0x231f841b908>"
      ]
     },
     "execution_count": 8,
     "metadata": {},
     "output_type": "execute_result"
    },
    {
     "data": {
      "image/png": "[encoded data removed]",
      "text/plain": [
       "<Figure size 576x432 with 1 Axes>"
      ]
     },
     "metadata": {
      "needs_background": "light"
     },
     "output_type": "display_data"
    }
   ],
   "source": [
    "pd.Series(tweets[\"airline\"]).value_counts().plot(kind = \"bar\",figsize=(8,6),rot = 0)"
   ]
  },
  {
   "cell_type": "code",
   "execution_count": 9,
   "metadata": {},
   "outputs": [
    {
     "data": {
      "text/plain": [
       "<matplotlib.axes._subplots.AxesSubplot at 0x231f8b5c588>"
      ]
     },
     "execution_count": 9,
     "metadata": {},
     "output_type": "execute_result"
    },
    {
     "data": {
      "image/png": "[encoded data removed]",
      "text/plain": [
       "<Figure size 720x432 with 1 Axes>"
      ]
     },
     "metadata": {
      "needs_background": "light"
     },
     "output_type": "display_data"
    }
   ],
   "source": [
    "pd.crosstab(index = tweets[\"airline\"],columns = tweets[\"airline_sentiment\"]).plot(kind='bar',figsize=(10, 6),alpha=0.5,rot=0,stacked=True,title=\"Sentiment by airline\")"
   ]
  },
  {
   "cell_type": "markdown",
   "metadata": {},
   "source": [
    "# Exercise 12.1 \n",
    "\n",
    "Predict the sentiment using CountVectorizer\n",
    "\n",
    "use Random Forest classifier"
   ]
  },
  {
   "cell_type": "code",
   "execution_count": 10,
   "metadata": {},
   "outputs": [],
   "source": [
    "from sklearn.model_selection import train_test_split, cross_val_score\n",
    "from sklearn.feature_extraction.text import CountVectorizer, TfidfVectorizer\n",
    "from sklearn.ensemble import RandomForestClassifier\n",
    "from nltk.stem.snowball import SnowballStemmer\n",
    "from nltk.stem import WordNetLemmatizer"
   ]
  },
  {
   "cell_type": "code",
   "execution_count": 11,
   "metadata": {},
   "outputs": [],
   "source": [
    "X = tweets['text']\n",
    "y = tweets['airline_sentiment'].map({'negative':-1,'neutral':0,'positive':1})"
   ]
  },
  {
   "cell_type": "code",
   "execution_count": 12,
   "metadata": {},
   "outputs": [
    {
     "data": {
      "text/plain": [
       "\"@VirginAmerica and it's a really big bad thing about it\""
      ]
     },
     "execution_count": 12,
     "metadata": {},
     "output_type": "execute_result"
    }
   ],
   "source": [
    "X.iloc[4]"
   ]
  },
  {
   "cell_type": "code",
   "execution_count": 13,
   "metadata": {},
   "outputs": [
    {
     "data": {
      "text/plain": [
       "count    14640.000000\n",
       "mean        -0.465505\n",
       "std          0.756084\n",
       "min         -1.000000\n",
       "25%         -1.000000\n",
       "50%         -1.000000\n",
       "75%          0.000000\n",
       "max          1.000000\n",
       "Name: airline_sentiment, dtype: float64"
      ]
     },
     "execution_count": 13,
     "metadata": {},
     "output_type": "execute_result"
    }
   ],
   "source": [
    "y.describe()"
   ]
  },
  {
   "cell_type": "code",
   "execution_count": 14,
   "metadata": {},
   "outputs": [],
   "source": [
    "tweets['y']=y"
   ]
  },
  {
   "cell_type": "code",
   "execution_count": 17,
   "metadata": {},
   "outputs": [],
   "source": [
    "# use CountVectorizer to create document-term matrices from X\n",
    "vect = CountVectorizer()\n",
    "X_dtm = vect.fit_transform(X)"
   ]
  },
  {
   "cell_type": "code",
   "execution_count": 18,
   "metadata": {},
   "outputs": [
    {
     "data": {
      "text/plain": [
       "matrix([[0, 0, 0, ..., 0, 0, 0],\n",
       "        [0, 0, 0, ..., 0, 0, 0],\n",
       "        [0, 0, 0, ..., 0, 0, 0],\n",
       "        ...,\n",
       "        [0, 0, 0, ..., 0, 0, 0],\n",
       "        [0, 0, 0, ..., 0, 0, 0],\n",
       "        [0, 0, 0, ..., 0, 0, 0]], dtype=int64)"
      ]
     },
     "execution_count": 18,
     "metadata": {},
     "output_type": "execute_result"
    }
   ],
   "source": [
    "#Crear matriz tipo Sparse\n",
    "temp=X_dtm.todense()\n",
    "temp"
   ]
  },
  {
   "cell_type": "code",
   "execution_count": 19,
   "metadata": {},
   "outputs": [
    {
     "data": {
      "text/plain": [
       "{'virginamerica': 14273,\n",
       " 'what': 14551,\n",
       " 'dhepburn': 4804,\n",
       " 'said': 11646,\n",
       " 'plus': 10438,\n",
       " 'you': 14944,\n",
       " 've': 14193,\n",
       " 'added': 1965,\n",
       " 'commercials': 4030,\n",
       " 'to': 13326,\n",
       " 'the': 13120,\n",
       " 'experience': 5665,\n",
       " 'tacky': 12925,\n",
       " 'didn': 4821,\n",
       " 'today': 13330,\n",
       " 'must': 9234,\n",
       " 'mean': 8837,\n",
       " 'need': 9375,\n",
       " 'take': 12941,\n",
       " 'another': 2331,\n",
       " 'trip': 13509,\n",
       " 'it': 7685,\n",
       " 'really': 11020,\n",
       " 'aggressive': 2054,\n",
       " 'blast': 3070,\n",
       " 'obnoxious': 9726,\n",
       " 'entertainment': 5455,\n",
       " 'in': 7381,\n",
       " 'your': 14953,\n",
       " 'guests': 6733,\n",
       " 'faces': 5740,\n",
       " 'amp': 2263,\n",
       " 'they': 13167,\n",
       " 'have': 6868,\n",
       " 'little': 8392,\n",
       " 'recourse': 11078,\n",
       " 'and': 2281,\n",
       " 'big': 3007,\n",
       " 'bad': 2746,\n",
       " 'thing': 13176,\n",
       " 'about': 1862,\n",
       " 'seriously': 11914,\n",
       " 'would': 14778,\n",
       " 'pay': 10175,\n",
       " '30': 761,\n",
       " 'flight': 6004,\n",
       " 'for': 6157,\n",
       " 'seats': 11832,\n",
       " 'that': 13115,\n",
       " 'this': 13188,\n",
       " 'playing': 10403,\n",
       " 'only': 9836,\n",
       " 'flying': 6101,\n",
       " 'va': 14145,\n",
       " 'yes': 14922,\n",
       " 'nearly': 9371,\n",
       " 'every': 5572,\n",
       " 'time': 13270,\n",
       " 'fly': 6086,\n",
       " 'vx': 14345,\n",
       " 'ear': 5238,\n",
       " 'worm': 14751,\n",
       " 'won': 14715,\n",
       " 'go': 6557,\n",
       " 'away': 2667,\n",
       " 'missed': 9043,\n",
       " 'prime': 10643,\n",
       " 'opportunity': 9869,\n",
       " 'men': 8902,\n",
       " 'without': 14684,\n",
       " 'hats': 6865,\n",
       " 'parody': 10104,\n",
       " 'there': 13150,\n",
       " 'https': 7188,\n",
       " 'co': 3944,\n",
       " 'mwpg7grezp': 9243,\n",
       " 'well': 14513,\n",
       " 'but': 3387,\n",
       " 'now': 9649,\n",
       " 'do': 5020,\n",
       " 'was': 14430,\n",
       " 'amazing': 2224,\n",
       " 'arrived': 2482,\n",
       " 'an': 2271,\n",
       " 'hour': 7154,\n",
       " 'early': 5241,\n",
       " 're': 10990,\n",
       " 'too': 13366,\n",
       " 'good': 6586,\n",
       " 'me': 8831,\n",
       " 'did': 4820,\n",
       " 'know': 8076,\n",
       " 'suicide': 12740,\n",
       " 'is': 7658,\n",
       " 'second': 11837,\n",
       " 'leading': 8227,\n",
       " 'cause': 3598,\n",
       " 'of': 9755,\n",
       " 'death': 4608,\n",
       " 'among': 2259,\n",
       " 'teens': 13024,\n",
       " '10': 58,\n",
       " '24': 597,\n",
       " 'lt': 8567,\n",
       " 'pretty': 10619,\n",
       " 'graphics': 6649,\n",
       " 'so': 12287,\n",
       " 'much': 9209,\n",
       " 'better': 2978,\n",
       " 'than': 13094,\n",
       " 'minimal': 9003,\n",
       " 'iconography': 7267,\n",
       " 'such': 12720,\n",
       " 'great': 6656,\n",
       " 'deal': 4600,\n",
       " 'already': 2192,\n",
       " 'thinking': 13182,\n",
       " 'my': 9248,\n",
       " '2nd': 732,\n",
       " 'australia': 2620,\n",
       " 'haven': 6869,\n",
       " 'even': 5558,\n",
       " 'gone': 6581,\n",
       " 'on': 9815,\n",
       " '1st': 468,\n",
       " 'yet': 14927,\n",
       " 'virginmedia': 14276,\n",
       " 'fabulous': 5734,\n",
       " 'seductive': 11852,\n",
       " 'skies': 12155,\n",
       " 'again': 2040,\n",
       " 'all': 2164,\n",
       " 'stress': 12654,\n",
       " 'from': 6281,\n",
       " 'travel': 13460,\n",
       " 'http': 7187,\n",
       " 'ahlxhhkiyn': 2072,\n",
       " 'thanks': 13103,\n",
       " 'sfo': 11950,\n",
       " 'pdx': 10193,\n",
       " 'schedule': 11762,\n",
       " 'still': 12586,\n",
       " 'mia': 8950,\n",
       " 'excited': 5614,\n",
       " 'first': 5950,\n",
       " 'cross': 4397,\n",
       " 'country': 4307,\n",
       " 'lax': 8207,\n",
       " 'mco': 8820,\n",
       " 'heard': 6904,\n",
       " 'nothing': 9623,\n",
       " 'things': 13177,\n",
       " 'virgin': 14272,\n",
       " 'america': 2235,\n",
       " '29daystogo': 689,\n",
       " 'flew': 5992,\n",
       " 'nyc': 9697,\n",
       " 'last': 8173,\n",
       " 'week': 14493,\n",
       " 'couldn': 4296,\n",
       " 'fully': 6335,\n",
       " 'sit': 12125,\n",
       " 'seat': 11825,\n",
       " 'due': 5180,\n",
       " 'two': 13616,\n",
       " 'large': 8163,\n",
       " 'gentleman': 6452,\n",
       " 'either': 5316,\n",
       " 'side': 12076,\n",
       " 'help': 6937,\n",
       " 'be': 2871,\n",
       " 'amazingly': 2226,\n",
       " 'awesome': 2672,\n",
       " 'bos': 3169,\n",
       " 'fll': 6059,\n",
       " 'please': 10410,\n",
       " 'want': 14413,\n",
       " 'with': 14681,\n",
       " 'why': 14609,\n",
       " 'are': 2450,\n",
       " 'fares': 5792,\n",
       " 'may': 8795,\n",
       " 'over': 9971,\n",
       " 'three': 13214,\n",
       " 'times': 13275,\n",
       " 'more': 9141,\n",
       " 'other': 9925,\n",
       " 'carriers': 3557,\n",
       " 'when': 14570,\n",
       " 'available': 2638,\n",
       " 'select': 11872,\n",
       " 'love': 8532,\n",
       " 'graphic': 6648,\n",
       " 'ut5grrwaaa': 14123,\n",
       " 'hipster': 7017,\n",
       " 'innovation': 7508,\n",
       " 'feel': 5849,\n",
       " 'brand': 3215,\n",
       " 'will': 14634,\n",
       " 'making': 8682,\n",
       " 'gt': 6717,\n",
       " 'las': 8168,\n",
       " 'non': 9555,\n",
       " 'stop': 12614,\n",
       " 'permanently': 10245,\n",
       " 'anytime': 2365,\n",
       " 'soon': 12336,\n",
       " 'guys': 6750,\n",
       " 'messed': 8926,\n",
       " 'up': 14008,\n",
       " 'seating': 11830,\n",
       " 'reserved': 11314,\n",
       " 'friends': 6274,\n",
       " 'gave': 6425,\n",
       " 'free': 6240,\n",
       " 'internet': 7590,\n",
       " 'status': 12545,\n",
       " 'match': 8779,\n",
       " 'program': 10706,\n",
       " 'applied': 2406,\n",
       " 'been': 2906,\n",
       " 'weeks': 14499,\n",
       " 'called': 3471,\n",
       " 'emailed': 5356,\n",
       " 'no': 9506,\n",
       " 'response': 11335,\n",
       " 'happened': 6821,\n",
       " 'ur': 14042,\n",
       " 'vegan': 14197,\n",
       " 'food': 6148,\n",
       " 'options': 9878,\n",
       " 'at': 2551,\n",
       " 'least': 8240,\n",
       " 'say': 11726,\n",
       " 'site': 12126,\n",
       " 'able': 1858,\n",
       " 'eat': 5262,\n",
       " 'anything': 2364,\n",
       " 'next': 9447,\n",
       " 'hrs': 7179,\n",
       " 'fail': 5745,\n",
       " 'miss': 9042,\n",
       " 'don': 5046,\n",
       " 'worry': 14756,\n",
       " 'we': 14467,\n",
       " 'll': 8414,\n",
       " 'together': 13335,\n",
       " 'very': 14228,\n",
       " 'can': 3489,\n",
       " 'get': 6468,\n",
       " 'any': 2355,\n",
       " 'cold': 3971,\n",
       " 'air': 2082,\n",
       " 'vents': 14212,\n",
       " 'vx358': 14346,\n",
       " 'noair': 9512,\n",
       " 'worstflightever': 14769,\n",
       " 'roasted': 11490,\n",
       " 'sfotobos': 11952,\n",
       " 'ewr': 5592,\n",
       " 'middle': 8960,\n",
       " 'red': 11089,\n",
       " 'eye': 5706,\n",
       " 'noob': 9570,\n",
       " 'maneuver': 8709,\n",
       " 'sendambien': 11890,\n",
       " 'andchexmix': 2282,\n",
       " 'hi': 6985,\n",
       " 'just': 7929,\n",
       " 'bked': 3048,\n",
       " 'cool': 4254,\n",
       " 'birthday': 3031,\n",
       " 'add': 1963,\n",
       " 'elevate': 5331,\n",
       " 'entered': 5448,\n",
       " 'name': 9308,\n",
       " 'during': 5202,\n",
       " 'booking': 3147,\n",
       " 'problems': 10673,\n",
       " 'hours': 7158,\n",
       " 'operation': 9861,\n",
       " 'club': 3915,\n",
       " 'posted': 10512,\n",
       " 'online': 9835,\n",
       " 'current': 4449,\n",
       " 'left': 8254,\n",
       " 'expensive': 5663,\n",
       " 'headphones': 6898,\n",
       " '89': 1610,\n",
       " 'iad': 7248,\n",
       " '2a': 690,\n",
       " 'one': 9821,\n",
       " 'answering': 2338,\n",
       " 'number': 9672,\n",
       " 'awaiting': 2662,\n",
       " 'return': 11381,\n",
       " 'phone': 10300,\n",
       " 'call': 3468,\n",
       " 'prefer': 10576,\n",
       " 'use': 14104,\n",
       " 'self': 11878,\n",
       " 'service': 11921,\n",
       " 'option': 9877,\n",
       " 'news': 9443,\n",
       " 'could': 4295,\n",
       " 'start': 12524,\n",
       " 'flights': 6047,\n",
       " 'hawaii': 6874,\n",
       " 'by': 3405,\n",
       " 'end': 5408,\n",
       " 'year': 14910,\n",
       " 'r8p2zy3fe4': 10922,\n",
       " 'via': 14242,\n",
       " 'pacificbiznews': 10042,\n",
       " 'nice': 9464,\n",
       " 'rt': 11564,\n",
       " 'vibe': 14244,\n",
       " 'moodlight': 9134,\n",
       " 'takeoff': 12945,\n",
       " 'touchdown': 13396,\n",
       " 'moodlitmonday': 9136,\n",
       " 'sciencebehindtheexperience': 11774,\n",
       " 'y7o0unxtqp': 14891,\n",
       " 'moodlighting': 9135,\n",
       " 'way': 14455,\n",
       " 'best': 2961,\n",
       " 'ever': 5569,\n",
       " 'calming': 3478,\n",
       " 'freddieawards': 6239,\n",
       " 'done': 5050,\n",
       " 'airline': 2097,\n",
       " 'around': 2473,\n",
       " 'hands': 6805,\n",
       " 'down': 5089,\n",
       " 'book': 3144,\n",
       " 'chat': 3716,\n",
       " 'support': 12781,\n",
       " 'not': 9604,\n",
       " 'working': 14743,\n",
       " 'vhp2gtdwpk': 14241,\n",
       " 'view': 14254,\n",
       " 'downtown': 5100,\n",
       " 'los': 8502,\n",
       " 'angeles': 2294,\n",
       " 'hollywood': 7066,\n",
       " 'sign': 12082,\n",
       " 'beyond': 2987,\n",
       " 'rain': 10940,\n",
       " 'mountains': 9161,\n",
       " 'dw5nf0ibtr': 5209,\n",
       " 'hey': 6972,\n",
       " 'flyer': 6095,\n",
       " 'having': 6872,\n",
       " 'hard': 6840,\n",
       " 'getting': 6485,\n",
       " 'account': 1909,\n",
       " 'plz': 10439,\n",
       " 'win': 14644,\n",
       " 'bid': 3006,\n",
       " 'upgrade': 14019,\n",
       " '27': 652,\n",
       " 'sea': 11814,\n",
       " 'unused': 14001,\n",
       " 'ticket': 13244,\n",
       " 'moved': 9166,\n",
       " 'new': 9429,\n",
       " 'city': 3836,\n",
       " 'where': 14573,\n",
       " 'how': 7164,\n",
       " 'before': 2911,\n",
       " 'expires': 5673,\n",
       " 'travelhelp': 13466,\n",
       " 'leaving': 8247,\n",
       " 'dallas': 4530,\n",
       " 'seattle': 11833,\n",
       " 'feb': 5834,\n",
       " 'elevategold': 5332,\n",
       " 'reason': 11026,\n",
       " 'rock': 11511,\n",
       " 'dream': 5128,\n",
       " 'oa2drfaoq2': 9712,\n",
       " 'lwwdac2khx': 8615,\n",
       " 'wow': 14786,\n",
       " 'blew': 3081,\n",
       " 'mind': 8997,\n",
       " 'ladygaga': 8137,\n",
       " 'carrieunderwood': 3558,\n",
       " 'after': 2034,\n",
       " 'night': 9476,\n",
       " 'tribute': 13501,\n",
       " 'soundofmusic': 12362,\n",
       " 'oscars2015': 9919,\n",
       " 'think': 13180,\n",
       " 'agree': 2060,\n",
       " 'were': 14524,\n",
       " 'entertaining': 5454,\n",
       " '769': 1508,\n",
       " 'supposed': 12786,\n",
       " 'off': 9758,\n",
       " 'minutes': 9014,\n",
       " 'ago': 2058,\n",
       " 'website': 14486,\n",
       " 'shows': 12055,\n",
       " 'julie': 7920,\n",
       " 'andrews': 2288,\n",
       " 'though': 13201,\n",
       " 'impressive': 7368,\n",
       " 'wish': 14677,\n",
       " 'out': 9944,\n",
       " 'atlanta': 2560,\n",
       " 'la': 8122,\n",
       " 'february': 5835,\n",
       " '24th': 618,\n",
       " '99': 1690,\n",
       " 'lga': 8303,\n",
       " 'dal': 4528,\n",
       " 'trying': 13550,\n",
       " 'since': 12108,\n",
       " 'page': 10056,\n",
       " 'never': 9415,\n",
       " 'loads': 8432,\n",
       " 'thx': 13236,\n",
       " 'spotify': 12454,\n",
       " 'stat': 12533,\n",
       " 'guiltypleasures': 6738,\n",
       " 'lady': 8136,\n",
       " 'gaga': 6394,\n",
       " 'she': 11988,\n",
       " 'carrie': 3554,\n",
       " 'marketing': 8745,\n",
       " 'song': 12332,\n",
       " 'f2lfulcbq7': 5715,\n",
       " 'let': 8280,\n",
       " 'us': 14049,\n",
       " 'meh': 8879,\n",
       " 'adding': 1966,\n",
       " '2014': 495,\n",
       " 'shown': 12054,\n",
       " 'sorry': 12345,\n",
       " 'mary': 8766,\n",
       " 'martin': 8761,\n",
       " 'had': 6773,\n",
       " 'beat': 2883,\n",
       " 'classics': 3859,\n",
       " '0736': 38,\n",
       " 'dca': 4589,\n",
       " '10pm': 107,\n",
       " 'tried': 13506,\n",
       " 'check': 3732,\n",
       " 'heyyyy': 6975,\n",
       " 'guyyyys': 6751,\n",
       " 'through': 13221,\n",
       " 'someone': 12323,\n",
       " 'hold': 7051,\n",
       " '40': 964,\n",
       " '50': 1178,\n",
       " 'earlier': 5239,\n",
       " 'tonight': 13361,\n",
       " '11': 114,\n",
       " '50pm': 1201,\n",
       " 'congrats': 4149,\n",
       " 'winning': 14658,\n",
       " 'travelzoo': 13479,\n",
       " 'award': 2664,\n",
       " 'deals': 4603,\n",
       " 'kj1iljaebv': 8055,\n",
       " 'everything': 5576,\n",
       " 'fine': 5931,\n",
       " 'until': 13995,\n",
       " 'lost': 8509,\n",
       " 'bag': 2767,\n",
       " 'change': 3679,\n",
       " 'reservation': 11311,\n",
       " 'credit': 4375,\n",
       " 'card': 3530,\n",
       " 'modify': 9099,\n",
       " 'waive': 14382,\n",
       " 'fee': 5846,\n",
       " 'or': 9882,\n",
       " 'customer': 4464,\n",
       " 'team': 13006,\n",
       " 'if': 7293,\n",
       " 'tracking': 13420,\n",
       " 'booked': 3146,\n",
       " 'baggage': 2770,\n",
       " 'loft': 8454,\n",
       " 'needs': 9381,\n",
       " 'step': 12565,\n",
       " 'its': 7703,\n",
       " 'game': 6405,\n",
       " 'dirty': 4870,\n",
       " 'tables': 12921,\n",
       " 'floors': 6063,\n",
       " 'hy0vrfhjht': 7237,\n",
       " 'worried': 14753,\n",
       " 'ride': 11429,\n",
       " 'plane': 10378,\n",
       " 'crew': 4379,\n",
       " 'airlines': 2104,\n",
       " 'should': 12036,\n",
       " 'like': 8341,\n",
       " 'yall': 14896,\n",
       " 'sat': 11696,\n",
       " 'morning': 9143,\n",
       " 'correct': 4270,\n",
       " 'bill': 3015,\n",
       " 'watch': 14444,\n",
       " 'some': 12320,\n",
       " 'student': 12687,\n",
       " 'films': 5914,\n",
       " '35': 846,\n",
       " '000': 1,\n",
       " 'feet': 5858,\n",
       " 'cmfat35000feet': 3927,\n",
       " 'kek5pdmgif': 8004,\n",
       " 'different': 4833,\n",
       " 'rate': 10971,\n",
       " 'policy': 10463,\n",
       " 'media': 8858,\n",
       " 'bags': 2776,\n",
       " 'going': 6568,\n",
       " 'anyway': 2366,\n",
       " 'speak': 12400,\n",
       " 'human': 7201,\n",
       " 'asap': 2494,\n",
       " 'thank': 13095,\n",
       " 'doom': 5067,\n",
       " 'supp': 12778,\n",
       " 'biz': 3043,\n",
       " 'traveler': 13463,\n",
       " 'southwestair': 12372,\n",
       " 'jetblue': 7804,\n",
       " 'neverflyvirginforbusiness': 9423,\n",
       " 'then': 13144,\n",
       " 'once': 9819,\n",
       " 'member': 8892,\n",
       " 'inflight': 7482,\n",
       " 'im': 7335,\n",
       " '100': 59,\n",
       " 'interested': 7578,\n",
       " 'flightattendant': 6024,\n",
       " 'dreampath': 5131,\n",
       " 'whenever': 14571,\n",
       " 'begrudgingly': 2918,\n",
       " 'delayed': 4666,\n",
       " 'late': 8181,\n",
       " 'interesting': 7579,\n",
       " 'cancelled': 3495,\n",
       " 'four': 6206,\n",
       " 'planned': 10384,\n",
       " 'disappointing': 4882,\n",
       " 'which': 14583,\n",
       " 'shared': 11979,\n",
       " 'business': 3378,\n",
       " 'meet': 8870,\n",
       " 'neverflyvirgin': 9422,\n",
       " 'trouble': 13521,\n",
       " 'wife': 14624,\n",
       " 'px8hqoks3r': 10826,\n",
       " 'bring': 3263,\n",
       " 'using': 14115,\n",
       " 'code': 3959,\n",
       " 'random': 10954,\n",
       " 'distribution': 4970,\n",
       " 'avatars': 2641,\n",
       " 'bet': 2973,\n",
       " 'kitty': 8054,\n",
       " 'has': 6852,\n",
       " 'disproportionate': 4946,\n",
       " 'share': 11978,\n",
       " 'aptzpurop4': 2436,\n",
       " 'life': 8324,\n",
       " 'happens': 6823,\n",
       " 'am': 2215,\n",
       " 'jperhi': 7901,\n",
       " 'home': 7070,\n",
       " 'back': 2732,\n",
       " 'rnp': 11483,\n",
       " 'yeah': 14909,\n",
       " 'points': 10454,\n",
       " 'most': 9151,\n",
       " 'recent': 11052,\n",
       " 'tv': 13592,\n",
       " 'video': 14251,\n",
       " 'disappointed': 4881,\n",
       " 'flightled': 6037,\n",
       " 'went': 14522,\n",
       " 'jfk': 7832,\n",
       " 'saturday': 11705,\n",
       " 'landed': 8150,\n",
       " 'here': 6965,\n",
       " 'friendly': 6269,\n",
       " 'nomorevirgin': 9554,\n",
       " '345': 837,\n",
       " 'redirected': 11099,\n",
       " 'btw': 3316,\n",
       " 'isn': 7672,\n",
       " 'user': 14110,\n",
       " 'redesign': 11096,\n",
       " 'both': 3179,\n",
       " 'desktop': 4759,\n",
       " 'mobile': 9091,\n",
       " 'avyqdmpi1y': 2659,\n",
       " 'scanned': 11744,\n",
       " 'passengers': 10132,\n",
       " 'leave': 8245,\n",
       " 'told': 13343,\n",
       " 'remove': 11223,\n",
       " 'their': 13137,\n",
       " 'class': 3855,\n",
       " 'bin': 3021,\n",
       " 'uncomfortable': 13855,\n",
       " 'find': 5925,\n",
       " 'who': 14597,\n",
       " 'anyone': 2360,\n",
       " 'doing': 5037,\n",
       " 'useless': 14109,\n",
       " 'boy': 3198,\n",
       " 'prince': 10644,\n",
       " 'ressie': 11341,\n",
       " 'sf': 11948,\n",
       " 'thursday': 13234,\n",
       " 'gsb2j3c4gm': 6714,\n",
       " 'appointments': 2412,\n",
       " 'sfo2lax': 11951,\n",
       " 'music': 9230,\n",
       " 'marcnocwzn': 8729,\n",
       " 'direct': 4858,\n",
       " 'unexpected': 13892,\n",
       " 'layover': 8211,\n",
       " 'vegas': 14198,\n",
       " 'fuel': 6327,\n",
       " 'peeps': 10208,\n",
       " 'bought': 3186,\n",
       " 'sneaky': 12270,\n",
       " 'apt': 2435,\n",
       " 'people': 10222,\n",
       " 'same': 11665,\n",
       " 'exp': 5645,\n",
       " 'raeann': 10934,\n",
       " 'customerservice': 4469,\n",
       " 'line': 8361,\n",
       " 'hung': 7212,\n",
       " 'sarcasm': 11690,\n",
       " 'tripping': 13514,\n",
       " 'plain': 10373,\n",
       " 'text': 13076,\n",
       " 'version': 14225,\n",
       " 'reluctant': 11200,\n",
       " 'enter': 5447,\n",
       " 'info': 7484,\n",
       " 'scheduled': 11763,\n",
       " '714': 1462,\n",
       " 'changed': 3680,\n",
       " 'weather': 14477,\n",
       " 'looks': 8493,\n",
       " 'getaway': 6470,\n",
       " '59': 1291,\n",
       " 'lots': 8519,\n",
       " 'cities': 3833,\n",
       " 'tzzjhuibch': 13637,\n",
       " 'cheapflights': 3725,\n",
       " 'farecompare': 5790,\n",
       " 'rpdbpx3wnd': 11557,\n",
       " 'b2xi4yg5t8': 2705,\n",
       " 'qdljhsloi5': 10850,\n",
       " 'come': 4005,\n",
       " 'phl': 10294,\n",
       " 'horrible': 7124,\n",
       " 'pleasecomeback': 10411,\n",
       " 'glxfwp6nqh': 6549,\n",
       " 'concerned': 4113,\n",
       " 'tech': 13014,\n",
       " 'flown': 6068,\n",
       " 'easy': 5261,\n",
       " 'helpful': 6942,\n",
       " 'representatives': 11271,\n",
       " 'comfortable': 4015,\n",
       " 'rep': 11240,\n",
       " 'kicked': 8023,\n",
       " 'butt': 3389,\n",
       " 'naelah': 9302,\n",
       " 'represents': 11273,\n",
       " 'beautifully': 2891,\n",
       " 'beautiful': 2889,\n",
       " 'front': 6284,\n",
       " 'design': 4748,\n",
       " 'right': 11438,\n",
       " 'secure': 11847,\n",
       " 'running': 11597,\n",
       " 'gate': 6420,\n",
       " 'e9': 5233,\n",
       " 'waited': 14372,\n",
       " 'kept': 8008,\n",
       " 'browser': 3294,\n",
       " '2015': 496,\n",
       " 'reputation': 11278,\n",
       " 'built': 3338,\n",
       " 'doesn': 5031,\n",
       " 'compatible': 4066,\n",
       " 'totally': 13392,\n",
       " 'folks': 6140,\n",
       " 'problem': 10671,\n",
       " 'min': 8996,\n",
       " 'delay': 4665,\n",
       " 'connecting': 4159,\n",
       " 'seems': 11861,\n",
       " 'long': 8481,\n",
       " 'va370': 14146,\n",
       " 'outstanding': 9967,\n",
       " 'san': 11670,\n",
       " 'francisco': 6220,\n",
       " 'absolute': 1866,\n",
       " 'delighted': 4680,\n",
       " 'provide': 10753,\n",
       " 'complimentary': 4098,\n",
       " 'upgrades': 14022,\n",
       " 'thats': 13117,\n",
       " '120': 155,\n",
       " 'wait': 14371,\n",
       " 'calling': 3474,\n",
       " 'intern': 7585,\n",
       " 'completely': 4092,\n",
       " 'month': 9128,\n",
       " 'nonstop': 9566,\n",
       " 'depart': 4713,\n",
       " 'vabeatsjblue': 14147,\n",
       " '882': 1608,\n",
       " 'failing': 5749,\n",
       " 'customers': 4468,\n",
       " 'because': 2896,\n",
       " 'process': 10682,\n",
       " 'does': 5030,\n",
       " 'link': 8368,\n",
       " 'tsa': 13556,\n",
       " 'pre': 10556,\n",
       " 'fidifamilies': 5895,\n",
       " 'terrible': 13060,\n",
       " 'hotel': 7142,\n",
       " 'hotline': 7148,\n",
       " '276': 657,\n",
       " 'cabo': 3446,\n",
       " 'lucas': 8574,\n",
       " 'chrysichrysic': 3808,\n",
       " 'assistance': 2529,\n",
       " 'yesterday': 14926,\n",
       " 'our': 9938,\n",
       " 'give': 6520,\n",
       " 'shame': 11968,\n",
       " 'likingyoulessandless': 8348,\n",
       " 'register': 11153,\n",
       " 'dog': 5034,\n",
       " 'dulles': 5186,\n",
       " 'queue': 10888,\n",
       " 'longer': 8485,\n",
       " 'pls': 10432,\n",
       " 'advise': 2005,\n",
       " 'oscars': 9918,\n",
       " 'redcarpet': 11090,\n",
       " 'reallytallchris': 11021,\n",
       " 'dropped': 5151,\n",
       " 'track': 13418,\n",
       " 'zv2pt6trk9': 15047,\n",
       " 'always': 2209,\n",
       " 'xoxo': 14869,\n",
       " 'buy': 3393,\n",
       " 'them': 13139,\n",
       " 'creates': 4370,\n",
       " 'anxiety': 2353,\n",
       " 'frustrated': 6296,\n",
       " 'paying': 10178,\n",
       " 'extra': 5697,\n",
       " 'bucks': 3322,\n",
       " 'luggage': 8582,\n",
       " 'might': 8970,\n",
       " 'afford': 2026,\n",
       " 'hiring': 7024,\n",
       " 'hand': 6791,\n",
       " 'lame': 8146,\n",
       " 'world': 14748,\n",
       " 'irmafromdallas': 7648,\n",
       " 'takes': 12948,\n",
       " 'cake': 3458,\n",
       " 'flt': 6069,\n",
       " 'sooner': 12337,\n",
       " 'midnight': 8965,\n",
       " 'monday': 9111,\n",
       " 'cant': 3508,\n",
       " 'imagine': 7337,\n",
       " 'as': 2493,\n",
       " 'web': 14481,\n",
       " 'indicates': 7452,\n",
       " 'dude': 5179,\n",
       " 'staff': 12495,\n",
       " 'super': 12767,\n",
       " 'ran': 10953,\n",
       " 'waltdisneyworld': 14406,\n",
       " 'princesshalf': 10647,\n",
       " 'spoiled': 12441,\n",
       " 'comfort': 4014,\n",
       " 'paid': 10059,\n",
       " 'premium': 10593,\n",
       " 'across': 1937,\n",
       " 'offer': 9763,\n",
       " 'sad': 11629,\n",
       " 'face': 5735,\n",
       " 'question': 10886,\n",
       " 'possible': 10508,\n",
       " 'infant': 7472,\n",
       " 'under': 13866,\n",
       " 'giving': 6525,\n",
       " 'him': 7009,\n",
       " 'welcome': 14508,\n",
       " 'jessicajaymes': 7800,\n",
       " 'dc': 4586,\n",
       " 'sunset': 12763,\n",
       " 'globe': 6545,\n",
       " 'backtowinter': 2742,\n",
       " 'work': 14734,\n",
       " 'refreshed': 11126,\n",
       " 'vx9vbctdlf': 14351,\n",
       " 'understand': 13872,\n",
       " 'dm': 5003,\n",
       " 'answer': 2336,\n",
       " 'damaged': 4536,\n",
       " 'destroyed': 4773,\n",
       " 'special': 12404,\n",
       " 'alone': 2189,\n",
       " 'kids': 8029,\n",
       " 'priority': 10656,\n",
       " 'boarding': 3118,\n",
       " 'checking': 3736,\n",
       " 'tickets': 13247,\n",
       " 'purchased': 10805,\n",
       " 'happy': 6827,\n",
       " 'coming': 4020,\n",
       " '713': 1461,\n",
       " 'field': 5896,\n",
       " 'definitely': 4650,\n",
       " '23': 576,\n",
       " '0769': 39,\n",
       " 'dfw': 4800,\n",
       " 'drivers': 5145,\n",
       " 'license': 8318,\n",
       " 'expired': 5672,\n",
       " 'friday': 6265,\n",
       " 'keeps': 8001,\n",
       " 'error': 5504,\n",
       " 'contact': 4196,\n",
       " 'minute': 9013,\n",
       " 'reschedule': 11296,\n",
       " 'button': 3390,\n",
       " 'greyed': 6677,\n",
       " 'rang': 10957,\n",
       " 'vendor': 14207,\n",
       " 'fix': 5964,\n",
       " 'got': 6610,\n",
       " 'checked': 3733,\n",
       " 'email': 5355,\n",
       " 'tomorrow': 13352,\n",
       " 'unacceptable': 13829,\n",
       " 'into': 7605,\n",
       " 'flighted': 6029,\n",
       " 'stuck': 12681,\n",
       " 'pairings': 10070,\n",
       " 'include': 7409,\n",
       " 'wine': 14651,\n",
       " 'white': 14595,\n",
       " 'offered': 9764,\n",
       " 'redwineisbetter': 11107,\n",
       " 'wonked': 14722,\n",
       " 'look': 8488,\n",
       " 'browsers': 3295,\n",
       " 'css': 4425,\n",
       " '8qsqmm7kf2': 1642,\n",
       " 'agent': 2047,\n",
       " 'designated': 4749,\n",
       " 'silver': 12097,\n",
       " 'dulles_airport': 5187,\n",
       " 'closed': 3896,\n",
       " 'assist': 2528,\n",
       " 'pasengers': 10124,\n",
       " 'plans': 10387,\n",
       " 'austin': 2618,\n",
       " 'route': 11543,\n",
       " 'topnews': 13376,\n",
       " 'arab': 2444,\n",
       " 'emirates': 5380,\n",
       " 'aqzwecokk2': 2441,\n",
       " 'normal': 9589,\n",
       " 'receive': 11048,\n",
       " 'reply': 11259,\n",
       " 'central': 3639,\n",
       " 'baggageissues': 2773,\n",
       " 'smh': 12236,\n",
       " 'logan': 8457,\n",
       " 'airport': 2110,\n",
       " 'waiting': 14374,\n",
       " 'checkin': 3735,\n",
       " '9am': 1696,\n",
       " 'desk': 4757,\n",
       " 'open': 9853,\n",
       " 'jump': 7922,\n",
       " 'market': 8744,\n",
       " 'dallas_news': 4531,\n",
       " 'ewwgi97gdx': 5593,\n",
       " 'beats': 2886,\n",
       " 'eps': 5480,\n",
       " 'views': 14255,\n",
       " 'luv': 8595,\n",
       " 'investor': 7620,\n",
       " 'daily': 4525,\n",
       " 'flwmgdahxu': 6085,\n",
       " 'lister': 8384,\n",
       " 'show': 12049,\n",
       " '1230': 171,\n",
       " '130': 199,\n",
       " 'begin': 2915,\n",
       " 'april': 2432,\n",
       " '88': 1606,\n",
       " 'ketr': 8010,\n",
       " 'ssuvwwkyhh': 12488,\n",
       " 'fuck': 6317,\n",
       " 'united': 13914,\n",
       " 'fl1289': 5974,\n",
       " 'clincher': 3887,\n",
       " 'follow': 6141,\n",
       " 'many': 8721,\n",
       " 'apologies': 2378,\n",
       " 'worse': 14758,\n",
       " 'respond': 11331,\n",
       " 'cudtomers': 4436,\n",
       " 'spend': 12422,\n",
       " 'money': 9113,\n",
       " 'stranded': 12634,\n",
       " 'landing': 8151,\n",
       " 'reimburse': 11167,\n",
       " 'ttinac11': 13564,\n",
       " 'sjc': 12143,\n",
       " 'choice': 3791,\n",
       " 'southwest': 12371,\n",
       " '14': 226,\n",
       " 'days': 4581,\n",
       " 'confirmation': 4137,\n",
       " 'inquired': 7517,\n",
       " 'claim': 3843,\n",
       " 'notification': 9628,\n",
       " 'rebook': 11037,\n",
       " 'met': 8929,\n",
       " 'restr': 11348,\n",
       " 'rhkamx9vf5': 11414,\n",
       " 'pyalebgkjt': 10829,\n",
       " 'gold': 6573,\n",
       " 'cmh': 3928,\n",
       " 'lot': 8518,\n",
       " 'being': 2927,\n",
       " 'thrown': 13227,\n",
       " 'see': 11853,\n",
       " 'worst': 14759,\n",
       " 'stuff': 12690,\n",
       " 'wrong': 14803,\n",
       " 'issue': 7677,\n",
       " 'finding': 5928,\n",
       " 'missing': 9050,\n",
       " 'item': 7688,\n",
       " 'headed': 6893,\n",
       " 'americanairlines': 2239,\n",
       " 'h952rdktqy': 6766,\n",
       " 'asarco_es_ar': 2495,\n",
       " 'lose': 8503,\n",
       " 'suck': 12721,\n",
       " 'persisting': 10249,\n",
       " 'rec': 11043,\n",
       " 'flightlation': 6035,\n",
       " 'notice': 9625,\n",
       " 'ps': 10762,\n",
       " 'driving': 5147,\n",
       " 'mon': 9110,\n",
       " 'boston': 3173,\n",
       " 'stink': 12595,\n",
       " 'psp': 10768,\n",
       " 'ability': 1857,\n",
       " 'expected': 5652,\n",
       " 'guy': 6748,\n",
       " 'dancing': 4548,\n",
       " 'high': 6993,\n",
       " 'school': 11769,\n",
       " 'dance': 4547,\n",
       " 'revue': 11408,\n",
       " 'quick': 10892,\n",
       " 'apparently': 2391,\n",
       " 'faster': 5803,\n",
       " 'sitting': 12132,\n",
       " 'nervous': 9406,\n",
       " 'sent': 11898,\n",
       " 'picture': 10321,\n",
       " 'wing': 14652,\n",
       " '5b2agfd8c4': 1301,\n",
       " 'keep': 7990,\n",
       " 'goodness': 6596,\n",
       " ...}"
      ]
     },
     "execution_count": 19,
     "metadata": {},
     "output_type": "execute_result"
    }
   ],
   "source": [
    "vect.vocabulary_"
   ]
  },
  {
   "cell_type": "code",
   "execution_count": 20,
   "metadata": {},
   "outputs": [
    {
     "data": {
      "text/plain": [
       "(14640, 15051)"
      ]
     },
     "execution_count": 20,
     "metadata": {},
     "output_type": "execute_result"
    }
   ],
   "source": [
    "# rows are documents, columns are terms (aka \"tokens\" or \"features\")\n",
    "X_dtm.shape"
   ]
  },
  {
   "cell_type": "code",
   "execution_count": 21,
   "metadata": {},
   "outputs": [
    {
     "name": "stdout",
     "output_type": "stream",
     "text": [
      "['yayayay', 'ybmbgs0dhn', 'ybv0xaowkv', 'yc7v2s0iod', 'yccitaep3s', 'yco9dikpt9', 'yday', 'yea', 'yeah', 'year', 'yearly', 'years', 'yeehaw', 'yeg', 'yell', 'yelled', 'yelling', 'yellow', 'yeniettelswood', 'yep', 'yer', 'yes', 'yeseniahernandez', 'yessir', 'yest', 'yesterday', 'yet', 'yf9nhmwyff', 'yh1kzkyzrr', 'yhz', 'yi4wguk5tr', 'yield', 'yikes', 'yiwlhqhzgp', 'ymftw1uyhr', 'ymmh9k4cbr', 'ync2zut4zz', 'yo', 'yoga', 'yogurt', 'yokkhhqcmp', 'york', 'yorkshire2002', 'you', 'youareonyourown', 'youcandobetter', 'youcouldntmakethis', 'youd', 'youdidit', 'youknowyouwantto', 'young', 'younger', 'your', 'youragentshavenoclue', 'yourairlinesucks', 'youre', 'youredoingitwrong', 'youretheworst', 'yourlocalnyer', 'yourock', 'yourphonesystemsucks', 'yours', 'yourself', 'yourselves', 'yourstoryhere', 'yousuck', 'yout', 'youth', 'youve', 'yow', 'ypbkcirbxu', 'ypo7nyprzl', 'yponthebeat', 'ypu', 'ypvpvdltys', 'yqhk8ljabn', 'yr', 'yrs', 'ysqbvq6mgb', 'ystday', 'ystrdy', 'yuck', 'yucki', 'yul', 'yuma', 'yummy', 'yup', 'yvonne', 'yvonneokaka', 'yvr', 'ywg', 'yx1dqjn8nl', 'yxe', 'yxn00pnoav', 'yxswfq9tgp', 'yxu', 'yyc', 'yyj', 'yyz', 'yyzua70435', 'yzh4zrqm0i', 'yzxfe7au22', 'z1', 'z5znfwkkwp', 'zabsonre', 'zacks_com', 'zagging', 'zakkohane', 'zambia', 'zcbjyo6lsn', 'zcc82u', 'zdkxn4ktou', 'zero', 'zf5wjgtxzt', 'zfqmpgxvs6', 'zfroinpszi', 'zfv', 'zgoqoxjbqy', 'zhxok07aqa', 'zig', 'zik2uoxgnw', 'zip', 'zippers', 'zira2z3udc', 'zj76', 'zkatcher', 'zkoe6clgiu', 'zksx79itdn', 'zl4bvexmcj', 'znsujp86bv', 'zo2iceg4li', 'zofwldqxbe', 'zombie', 'zone', 'zones', 'zoom', 'zouowgv3q6', 'zpz78poeon', 'zqutus7epw', 'zrh', 'zrh_airport', 'zsdgzydnde', 'zsuztnaijq', 'ztrdwv0n4l', 'zukes', 'zurich', 'zv2pt6trk9', 'zv6cfpohl5', 'zvfmxnuelj', 'zzps5ywve2']\n"
     ]
    }
   ],
   "source": [
    "# Last features\n",
    "print(vect.get_feature_names()[-150:])"
   ]
  },
  {
   "cell_type": "markdown",
   "metadata": {},
   "source": [
    "En este punto, se procesan los textos aún sin limpiar. Está creando una columna por cada palabra."
   ]
  },
  {
   "cell_type": "code",
   "execution_count": 22,
   "metadata": {},
   "outputs": [
    {
     "data": {
      "text/plain": [
       "(14640, 15051)"
      ]
     },
     "execution_count": 22,
     "metadata": {},
     "output_type": "execute_result"
    }
   ],
   "source": [
    "#lowercase: boolean, True by default\n",
    "#Convert all characters to lowercase before tokenizing. Se dejan todas en minúscula\n",
    "vect = CountVectorizer(lowercase=True)\n",
    "X_dtm = vect.fit_transform(X)\n",
    "X_dtm.shape"
   ]
  },
  {
   "cell_type": "code",
   "execution_count": 23,
   "metadata": {},
   "outputs": [
    {
     "data": {
      "text/plain": [
       "4804"
      ]
     },
     "execution_count": 23,
     "metadata": {},
     "output_type": "execute_result"
    }
   ],
   "source": [
    "X_dtm.todense()[0].argmax()"
   ]
  },
  {
   "cell_type": "code",
   "execution_count": 24,
   "metadata": {},
   "outputs": [
    {
     "data": {
      "text/plain": [
       "'admiral'"
      ]
     },
     "execution_count": 24,
     "metadata": {},
     "output_type": "execute_result"
    }
   ],
   "source": [
    "vect.get_feature_names()[1983]"
   ]
  },
  {
   "cell_type": "markdown",
   "metadata": {},
   "source": [
    "**Predecir sin n-grams y todas en minuscula (con Naive Bayes)**"
   ]
  },
  {
   "cell_type": "code",
   "execution_count": 25,
   "metadata": {},
   "outputs": [
    {
     "data": {
      "text/plain": [
       "count    10.000000\n",
       "mean      0.743852\n",
       "std       0.024567\n",
       "min       0.714481\n",
       "25%       0.727288\n",
       "50%       0.743511\n",
       "75%       0.748292\n",
       "max       0.799180\n",
       "dtype: float64"
      ]
     },
     "execution_count": 25,
     "metadata": {},
     "output_type": "execute_result"
    }
   ],
   "source": [
    "# use Naive Bayes to predict \n",
    "nb = MultinomialNB()\n",
    "pd.Series(cross_val_score(nb, X_dtm, y, cv=10)).describe()"
   ]
  },
  {
   "cell_type": "markdown",
   "metadata": {},
   "source": [
    "Con este modelo el Accuracy promedio de referencia es de 74.38% para las 3 clases a predecir (calculado con CV, k=10)"
   ]
  },
  {
   "cell_type": "markdown",
   "metadata": {},
   "source": [
    "**Predecir sin n-grams y todas en minuscula (con Random Forest)**"
   ]
  },
  {
   "cell_type": "code",
   "execution_count": 92,
   "metadata": {},
   "outputs": [
    {
     "data": {
      "text/plain": [
       "count    10.000000\n",
       "mean      0.730601\n",
       "std       0.027752\n",
       "min       0.687842\n",
       "25%       0.710895\n",
       "50%       0.730191\n",
       "75%       0.743169\n",
       "max       0.773907\n",
       "dtype: float64"
      ]
     },
     "execution_count": 92,
     "metadata": {},
     "output_type": "execute_result"
    }
   ],
   "source": [
    "clf = RandomForestClassifier()\n",
    "clf\n",
    "pd.Series(cross_val_score(clf, X_dtm, y, cv=10)).describe()"
   ]
  },
  {
   "cell_type": "markdown",
   "metadata": {},
   "source": [
    "En contraste, al aplicar Random Forest (con Crossvalidation k=10), obtenemos un menor Accuracy promedio del 73.06%"
   ]
  },
  {
   "cell_type": "markdown",
   "metadata": {},
   "source": [
    "**Predecir sin n-grams y dejando Tokens en Minúscula (con Random Forest)**"
   ]
  },
  {
   "cell_type": "code",
   "execution_count": 26,
   "metadata": {},
   "outputs": [
    {
     "data": {
      "text/plain": [
       "(14640, 15051)"
      ]
     },
     "execution_count": 26,
     "metadata": {},
     "output_type": "execute_result"
    }
   ],
   "source": [
    "vect = CountVectorizer(lowercase=True)\n",
    "X_dtm2 = vect.fit_transform(X)\n",
    "X_dtm2.shape"
   ]
  },
  {
   "cell_type": "code",
   "execution_count": 27,
   "metadata": {},
   "outputs": [
    {
     "data": {
      "text/plain": [
       "count    10.000000\n",
       "mean      0.733197\n",
       "std       0.023128\n",
       "min       0.700820\n",
       "25%       0.716359\n",
       "50%       0.734973\n",
       "75%       0.743511\n",
       "max       0.770492\n",
       "dtype: float64"
      ]
     },
     "execution_count": 27,
     "metadata": {},
     "output_type": "execute_result"
    }
   ],
   "source": [
    "clf = RandomForestClassifier()\n",
    "clf\n",
    "pd.Series(cross_val_score(clf, X_dtm2, y, cv=10)).describe()"
   ]
  },
  {
   "cell_type": "markdown",
   "metadata": {},
   "source": [
    "En este caso, al aplicar Random Forest (con Crossvalidation k=10), mejora un poco el Accuracy promedio a 73.31%, superando el obtenido con Naive Bayes."
   ]
  },
  {
   "cell_type": "markdown",
   "metadata": {},
   "source": [
    "# Exercise 12.2 \n",
    "\n",
    "Remove stopwords, then predict the sentiment using CountVectorizer.\n",
    "\n",
    "use Random Forest classifier"
   ]
  },
  {
   "cell_type": "code",
   "execution_count": 29,
   "metadata": {},
   "outputs": [
    {
     "data": {
      "text/plain": [
       "(14640, 14770)"
      ]
     },
     "execution_count": 29,
     "metadata": {},
     "output_type": "execute_result"
    }
   ],
   "source": [
    "#Quitando Stopwords\n",
    "vect = CountVectorizer(stop_words='english')\n",
    "X_dtm3 = vect.fit_transform(X)\n",
    "X_dtm3.shape"
   ]
  },
  {
   "cell_type": "code",
   "execution_count": 31,
   "metadata": {},
   "outputs": [
    {
     "name": "stdout",
     "output_type": "stream",
     "text": [
      "frozenset({'beside', 'as', 'whence', 'toward', 'when', 'and', 'once', 'few', 'mostly', 'whoever', 'become', 'move', 'never', 'call', 'everywhere', 'herein', 'were', 'everyone', 'out', 'per', 'sixty', 'anyone', 'hereafter', 'somewhere', 'amoungst', 'seem', 'such', 'top', 'last', 'sometime', 'name', 'upon', 'rather', 'again', 'for', 'if', 'front', 'whereupon', 'keep', 'already', 'interest', 'elsewhere', 'they', 'ie', 'also', 'nor', 'which', 'yourself', 'ours', 'whose', 'in', 'alone', 'former', 'yourselves', 'them', 'was', 'where', 'almost', 'wherever', 'without', 'each', 'this', 'due', 'forty', 'into', 'of', 'thus', 'behind', 'through', 'those', 'much', 'most', 'am', 'might', 'would', 'back', 'now', 'be', 'least', 'on', 'ever', 'with', 'very', 'beforehand', 'under', 'three', 'himself', 'five', 'across', 'then', 'hasnt', 'than', 'co', 'either', 'fifty', 'because', 'one', 'bill', 'first', 'something', 'no', 'us', 'at', 'becoming', 'give', 'seemed', 'many', 'by', 'via', 'yet', 'latter', 'had', 'sincere', 'onto', 'towards', 'up', 'thereupon', 'your', 'next', 'against', 'six', 'show', 'whether', 'an', 'whatever', 'every', 'not', 're', 'same', 'whole', 'eleven', 'meanwhile', 'we', 'neither', 'except', 'although', 'hence', 'his', 'is', 'above', 'themselves', 'see', 'several', 'cry', 'i', 'however', 'hereupon', 'whom', 'can', 'there', 'how', 'has', 'hers', 'even', 'indeed', 'fifteen', 'four', 'may', 'are', 'afterwards', 'seeming', 'somehow', 'until', 'any', 'yours', 'someone', 'about', 'off', 'third', 'perhaps', 'twenty', 'below', 'will', 'him', 'among', 'only', 'though', 'bottom', 'down', 'eg', 'nine', 'together', 'nobody', 'fill', 'well', 'itself', 'couldnt', 'everything', 'seems', 'inc', 'its', 'found', 'too', 'here', 'but', 'others', 'during', 'hereby', 'who', 'since', 'cant', 'ltd', 'over', 'our', 'between', 'thin', 'less', 'otherwise', 'have', 'could', 'around', 'fire', 'thereby', 'that', 'serious', 'side', 'before', 'nothing', 'within', 'sometimes', 'or', 'do', 'throughout', 'whereby', 'full', 'other', 'being', 'further', 'you', 'along', 'therein', 'after', 'else', 'still', 'besides', 'de', 'anyway', 'the', 'it', 'while', 'myself', 'enough', 'all', 'find', 'twelve', 'empty', 'ten', 'etc', 'anywhere', 'ourselves', 'her', 'hundred', 'a', 'nowhere', 'none', 'amount', 'thereafter', 'noone', 'nevertheless', 'she', 'from', 'me', 'often', 'take', 'their', 'some', 'mill', 'thru', 'whereas', 'moreover', 'these', 'please', 'anyhow', 'system', 'latterly', 'amongst', 'mine', 'whenever', 'thick', 'another', 'describe', 'became', 'two', 'both', 'always', 'eight', 'to', 'wherein', 'go', 'namely', 'therefore', 'made', 'should', 'he', 'part', 'anything', 'detail', 'formerly', 'beyond', 'must', 'get', 'what', 'why', 'so', 'herself', 'put', 'con', 'becomes', 'un', 'whereafter', 'my', 'whither', 'done', 'thence', 'cannot', 'been', 'more', 'own'})\n"
     ]
    }
   ],
   "source": [
    "# set of stop words\n",
    "print(vect.get_stop_words())"
   ]
  },
  {
   "cell_type": "code",
   "execution_count": 33,
   "metadata": {},
   "outputs": [
    {
     "name": "stdout",
     "output_type": "stream",
     "text": [
      "['00', '000', '000114', '000419', '000ft', '000lbs', '0011', '0016', '00a', '00am', '00p', '00pm', '01', '0162389030167', '0162424965446', '0162431184663', '0167560070877', '0185', '01ldxn3qqq', '01pm', '02', '0200', '03', '0316', '0372389047497', '04', '0400', '04sdytt7zd', '05', '0510', '0530', '05am', '05pm', '06', '0600', '0638', '0671', '07', '0736', '0769', '07p', '07xhcacjax', '08', '0985', '0_0', '0bjnz4eix5', '0cevy3p42b', '0ewj7oklji', '0hmmqczkcf', '0hxlnvzknp']\n"
     ]
    }
   ],
   "source": [
    "# First features\n",
    "print(vect.get_feature_names()[:50])"
   ]
  },
  {
   "cell_type": "markdown",
   "metadata": {},
   "source": [
    "Realizando Predicción con RandomForest"
   ]
  },
  {
   "cell_type": "code",
   "execution_count": 30,
   "metadata": {},
   "outputs": [
    {
     "data": {
      "text/plain": [
       "count    10.000000\n",
       "mean      0.715779\n",
       "std       0.043832\n",
       "min       0.622951\n",
       "25%       0.715335\n",
       "50%       0.717896\n",
       "75%       0.731557\n",
       "max       0.787568\n",
       "dtype: float64"
      ]
     },
     "execution_count": 30,
     "metadata": {},
     "output_type": "execute_result"
    }
   ],
   "source": [
    "clf = RandomForestClassifier()\n",
    "clf\n",
    "pd.Series(cross_val_score(clf, X_dtm3, y, cv=10)).describe()"
   ]
  },
  {
   "cell_type": "markdown",
   "metadata": {},
   "source": [
    "Observamos que al quitar stopwords, el Accuracy promedio es 71.5%, el cual disminuye con respecto al conseguido antes de quitar stopwords"
   ]
  },
  {
   "cell_type": "markdown",
   "metadata": {},
   "source": [
    "# Exercise 12.3\n",
    "\n",
    "Increase n_grams size (with and without stopwords),  then predict the sentiment using CountVectorizer\n",
    "\n",
    "use Random Forest classifier"
   ]
  },
  {
   "cell_type": "markdown",
   "metadata": {},
   "source": [
    "**Quitando StopWords**"
   ]
  },
  {
   "cell_type": "code",
   "execution_count": 35,
   "metadata": {},
   "outputs": [
    {
     "data": {
      "text/plain": [
       "(14640, 292363)"
      ]
     },
     "execution_count": 35,
     "metadata": {},
     "output_type": "execute_result"
    }
   ],
   "source": [
    "vect = CountVectorizer(stop_words='english',ngram_range=(1,4))\n",
    "X_dtm4 = vect.fit_transform(X)\n",
    "X_dtm4.shape"
   ]
  },
  {
   "cell_type": "code",
   "execution_count": 36,
   "metadata": {},
   "outputs": [
    {
     "data": {
      "text/plain": [
       "count    10.000000\n",
       "mean      0.709426\n",
       "std       0.043753\n",
       "min       0.614071\n",
       "25%       0.701332\n",
       "50%       0.711066\n",
       "75%       0.731728\n",
       "max       0.782104\n",
       "dtype: float64"
      ]
     },
     "execution_count": 36,
     "metadata": {},
     "output_type": "execute_result"
    }
   ],
   "source": [
    "clf = RandomForestClassifier()\n",
    "clf\n",
    "pd.Series(cross_val_score(clf, X_dtm4, y, cv=10)).describe()"
   ]
  },
  {
   "cell_type": "markdown",
   "metadata": {},
   "source": [
    "Al usar ngrams (1,4) y quitando Stopwords, el Accuracy promedio se reduce respecto a los valores obtenidos previamente en 12.1 y 12.2"
   ]
  },
  {
   "cell_type": "markdown",
   "metadata": {},
   "source": [
    "**Dejando StopWords**"
   ]
  },
  {
   "cell_type": "code",
   "execution_count": 37,
   "metadata": {},
   "outputs": [
    {
     "data": {
      "text/plain": [
       "(14640, 483199)"
      ]
     },
     "execution_count": 37,
     "metadata": {},
     "output_type": "execute_result"
    }
   ],
   "source": [
    "# 1 a 4 ngrams\n",
    "vect = CountVectorizer(ngram_range=(1,4))\n",
    "X_dtm5 = vect.fit_transform(X)\n",
    "X_dtm5.shape"
   ]
  },
  {
   "cell_type": "code",
   "execution_count": 38,
   "metadata": {},
   "outputs": [
    {
     "data": {
      "text/plain": [
       "count    10.000000\n",
       "mean      0.720082\n",
       "std       0.019982\n",
       "min       0.687842\n",
       "25%       0.711407\n",
       "50%       0.718921\n",
       "75%       0.729850\n",
       "max       0.750000\n",
       "dtype: float64"
      ]
     },
     "execution_count": 38,
     "metadata": {},
     "output_type": "execute_result"
    }
   ],
   "source": [
    "clf = RandomForestClassifier()\n",
    "clf\n",
    "pd.Series(cross_val_score(clf, X_dtm5, y, cv=10)).describe()"
   ]
  },
  {
   "cell_type": "markdown",
   "metadata": {},
   "source": [
    "Al dejar los stopwords, el Accuracy promedio mejora de 70.94% a 72% (hasta 4 ngrams). No obstante, en general resulta mejor sólo trabajar con palabras tokenizadas y con el modelo Naive Bayes."
   ]
  },
  {
   "cell_type": "code",
   "execution_count": 49,
   "metadata": {},
   "outputs": [
    {
     "data": {
      "text/plain": [
       "(14640, 117630)"
      ]
     },
     "execution_count": 49,
     "metadata": {},
     "output_type": "execute_result"
    }
   ],
   "source": [
    "#1 a 2 ngrams\n",
    "vect = CountVectorizer(ngram_range=(1,2))\n",
    "X_dtm6 = vect.fit_transform(X)\n",
    "X_dtm6.shape"
   ]
  },
  {
   "cell_type": "code",
   "execution_count": 50,
   "metadata": {},
   "outputs": [
    {
     "data": {
      "text/plain": [
       "count    10.000000\n",
       "mean      0.730738\n",
       "std       0.022051\n",
       "min       0.707650\n",
       "25%       0.712090\n",
       "50%       0.727459\n",
       "75%       0.740096\n",
       "max       0.769126\n",
       "dtype: float64"
      ]
     },
     "execution_count": 50,
     "metadata": {},
     "output_type": "execute_result"
    }
   ],
   "source": [
    "clf = RandomForestClassifier()\n",
    "clf\n",
    "pd.Series(cross_val_score(clf, X_dtm6, y, cv=10)).describe()"
   ]
  },
  {
   "cell_type": "markdown",
   "metadata": {},
   "source": [
    "Al disminuir la cantidad ngram (1 a 2) encontramos una mejora en el Accuracy promedio, el cual sube a 73.07%"
   ]
  },
  {
   "cell_type": "markdown",
   "metadata": {},
   "source": [
    "# Exercise 12.4\n",
    "\n",
    "Predict the sentiment using TfidfVectorizer.\n",
    "\n",
    "use Random Forest classifier"
   ]
  },
  {
   "cell_type": "code",
   "execution_count": 39,
   "metadata": {},
   "outputs": [
    {
     "data": {
      "text/html": [
       "<div>\n",
       "<style scoped>\n",
       "    .dataframe tbody tr th:only-of-type {\n",
       "        vertical-align: middle;\n",
       "    }\n",
       "\n",
       "    .dataframe tbody tr th {\n",
       "        vertical-align: top;\n",
       "    }\n",
       "\n",
       "    .dataframe thead th {\n",
       "        text-align: right;\n",
       "    }\n",
       "</style>\n",
       "<table border=\"1\" class=\"dataframe\">\n",
       "  <thead>\n",
       "    <tr style=\"text-align: right;\">\n",
       "      <th></th>\n",
       "      <th>00</th>\n",
       "      <th>000</th>\n",
       "      <th>000114</th>\n",
       "      <th>000419</th>\n",
       "      <th>000ft</th>\n",
       "      <th>000lbs</th>\n",
       "      <th>0011</th>\n",
       "      <th>0016</th>\n",
       "      <th>00a</th>\n",
       "      <th>00am</th>\n",
       "      <th>...</th>\n",
       "      <th>zrh_airport</th>\n",
       "      <th>zsdgzydnde</th>\n",
       "      <th>zsuztnaijq</th>\n",
       "      <th>ztrdwv0n4l</th>\n",
       "      <th>zukes</th>\n",
       "      <th>zurich</th>\n",
       "      <th>zv2pt6trk9</th>\n",
       "      <th>zv6cfpohl5</th>\n",
       "      <th>zvfmxnuelj</th>\n",
       "      <th>zzps5ywve2</th>\n",
       "    </tr>\n",
       "  </thead>\n",
       "  <tbody>\n",
       "    <tr>\n",
       "      <th>0</th>\n",
       "      <td>0.0</td>\n",
       "      <td>0.0</td>\n",
       "      <td>0.0</td>\n",
       "      <td>0.0</td>\n",
       "      <td>0.0</td>\n",
       "      <td>0.0</td>\n",
       "      <td>0.0</td>\n",
       "      <td>0.0</td>\n",
       "      <td>0.0</td>\n",
       "      <td>0.0</td>\n",
       "      <td>...</td>\n",
       "      <td>0.0</td>\n",
       "      <td>0.0</td>\n",
       "      <td>0.0</td>\n",
       "      <td>0.0</td>\n",
       "      <td>0.0</td>\n",
       "      <td>0.0</td>\n",
       "      <td>0.0</td>\n",
       "      <td>0.0</td>\n",
       "      <td>0.0</td>\n",
       "      <td>0.0</td>\n",
       "    </tr>\n",
       "    <tr>\n",
       "      <th>1</th>\n",
       "      <td>0.0</td>\n",
       "      <td>0.0</td>\n",
       "      <td>0.0</td>\n",
       "      <td>0.0</td>\n",
       "      <td>0.0</td>\n",
       "      <td>0.0</td>\n",
       "      <td>0.0</td>\n",
       "      <td>0.0</td>\n",
       "      <td>0.0</td>\n",
       "      <td>0.0</td>\n",
       "      <td>...</td>\n",
       "      <td>0.0</td>\n",
       "      <td>0.0</td>\n",
       "      <td>0.0</td>\n",
       "      <td>0.0</td>\n",
       "      <td>0.0</td>\n",
       "      <td>0.0</td>\n",
       "      <td>0.0</td>\n",
       "      <td>0.0</td>\n",
       "      <td>0.0</td>\n",
       "      <td>0.0</td>\n",
       "    </tr>\n",
       "    <tr>\n",
       "      <th>2</th>\n",
       "      <td>0.0</td>\n",
       "      <td>0.0</td>\n",
       "      <td>0.0</td>\n",
       "      <td>0.0</td>\n",
       "      <td>0.0</td>\n",
       "      <td>0.0</td>\n",
       "      <td>0.0</td>\n",
       "      <td>0.0</td>\n",
       "      <td>0.0</td>\n",
       "      <td>0.0</td>\n",
       "      <td>...</td>\n",
       "      <td>0.0</td>\n",
       "      <td>0.0</td>\n",
       "      <td>0.0</td>\n",
       "      <td>0.0</td>\n",
       "      <td>0.0</td>\n",
       "      <td>0.0</td>\n",
       "      <td>0.0</td>\n",
       "      <td>0.0</td>\n",
       "      <td>0.0</td>\n",
       "      <td>0.0</td>\n",
       "    </tr>\n",
       "    <tr>\n",
       "      <th>3</th>\n",
       "      <td>0.0</td>\n",
       "      <td>0.0</td>\n",
       "      <td>0.0</td>\n",
       "      <td>0.0</td>\n",
       "      <td>0.0</td>\n",
       "      <td>0.0</td>\n",
       "      <td>0.0</td>\n",
       "      <td>0.0</td>\n",
       "      <td>0.0</td>\n",
       "      <td>0.0</td>\n",
       "      <td>...</td>\n",
       "      <td>0.0</td>\n",
       "      <td>0.0</td>\n",
       "      <td>0.0</td>\n",
       "      <td>0.0</td>\n",
       "      <td>0.0</td>\n",
       "      <td>0.0</td>\n",
       "      <td>0.0</td>\n",
       "      <td>0.0</td>\n",
       "      <td>0.0</td>\n",
       "      <td>0.0</td>\n",
       "    </tr>\n",
       "    <tr>\n",
       "      <th>4</th>\n",
       "      <td>0.0</td>\n",
       "      <td>0.0</td>\n",
       "      <td>0.0</td>\n",
       "      <td>0.0</td>\n",
       "      <td>0.0</td>\n",
       "      <td>0.0</td>\n",
       "      <td>0.0</td>\n",
       "      <td>0.0</td>\n",
       "      <td>0.0</td>\n",
       "      <td>0.0</td>\n",
       "      <td>...</td>\n",
       "      <td>0.0</td>\n",
       "      <td>0.0</td>\n",
       "      <td>0.0</td>\n",
       "      <td>0.0</td>\n",
       "      <td>0.0</td>\n",
       "      <td>0.0</td>\n",
       "      <td>0.0</td>\n",
       "      <td>0.0</td>\n",
       "      <td>0.0</td>\n",
       "      <td>0.0</td>\n",
       "    </tr>\n",
       "    <tr>\n",
       "      <th>...</th>\n",
       "      <td>...</td>\n",
       "      <td>...</td>\n",
       "      <td>...</td>\n",
       "      <td>...</td>\n",
       "      <td>...</td>\n",
       "      <td>...</td>\n",
       "      <td>...</td>\n",
       "      <td>...</td>\n",
       "      <td>...</td>\n",
       "      <td>...</td>\n",
       "      <td>...</td>\n",
       "      <td>...</td>\n",
       "      <td>...</td>\n",
       "      <td>...</td>\n",
       "      <td>...</td>\n",
       "      <td>...</td>\n",
       "      <td>...</td>\n",
       "      <td>...</td>\n",
       "      <td>...</td>\n",
       "      <td>...</td>\n",
       "      <td>...</td>\n",
       "    </tr>\n",
       "    <tr>\n",
       "      <th>14635</th>\n",
       "      <td>0.0</td>\n",
       "      <td>0.0</td>\n",
       "      <td>0.0</td>\n",
       "      <td>0.0</td>\n",
       "      <td>0.0</td>\n",
       "      <td>0.0</td>\n",
       "      <td>0.0</td>\n",
       "      <td>0.0</td>\n",
       "      <td>0.0</td>\n",
       "      <td>0.0</td>\n",
       "      <td>...</td>\n",
       "      <td>0.0</td>\n",
       "      <td>0.0</td>\n",
       "      <td>0.0</td>\n",
       "      <td>0.0</td>\n",
       "      <td>0.0</td>\n",
       "      <td>0.0</td>\n",
       "      <td>0.0</td>\n",
       "      <td>0.0</td>\n",
       "      <td>0.0</td>\n",
       "      <td>0.0</td>\n",
       "    </tr>\n",
       "    <tr>\n",
       "      <th>14636</th>\n",
       "      <td>0.0</td>\n",
       "      <td>0.0</td>\n",
       "      <td>0.0</td>\n",
       "      <td>0.0</td>\n",
       "      <td>0.0</td>\n",
       "      <td>0.0</td>\n",
       "      <td>0.0</td>\n",
       "      <td>0.0</td>\n",
       "      <td>0.0</td>\n",
       "      <td>0.0</td>\n",
       "      <td>...</td>\n",
       "      <td>0.0</td>\n",
       "      <td>0.0</td>\n",
       "      <td>0.0</td>\n",
       "      <td>0.0</td>\n",
       "      <td>0.0</td>\n",
       "      <td>0.0</td>\n",
       "      <td>0.0</td>\n",
       "      <td>0.0</td>\n",
       "      <td>0.0</td>\n",
       "      <td>0.0</td>\n",
       "    </tr>\n",
       "    <tr>\n",
       "      <th>14637</th>\n",
       "      <td>0.0</td>\n",
       "      <td>0.0</td>\n",
       "      <td>0.0</td>\n",
       "      <td>0.0</td>\n",
       "      <td>0.0</td>\n",
       "      <td>0.0</td>\n",
       "      <td>0.0</td>\n",
       "      <td>0.0</td>\n",
       "      <td>0.0</td>\n",
       "      <td>0.0</td>\n",
       "      <td>...</td>\n",
       "      <td>0.0</td>\n",
       "      <td>0.0</td>\n",
       "      <td>0.0</td>\n",
       "      <td>0.0</td>\n",
       "      <td>0.0</td>\n",
       "      <td>0.0</td>\n",
       "      <td>0.0</td>\n",
       "      <td>0.0</td>\n",
       "      <td>0.0</td>\n",
       "      <td>0.0</td>\n",
       "    </tr>\n",
       "    <tr>\n",
       "      <th>14638</th>\n",
       "      <td>0.0</td>\n",
       "      <td>0.0</td>\n",
       "      <td>0.0</td>\n",
       "      <td>0.0</td>\n",
       "      <td>0.0</td>\n",
       "      <td>0.0</td>\n",
       "      <td>0.0</td>\n",
       "      <td>0.0</td>\n",
       "      <td>0.0</td>\n",
       "      <td>0.0</td>\n",
       "      <td>...</td>\n",
       "      <td>0.0</td>\n",
       "      <td>0.0</td>\n",
       "      <td>0.0</td>\n",
       "      <td>0.0</td>\n",
       "      <td>0.0</td>\n",
       "      <td>0.0</td>\n",
       "      <td>0.0</td>\n",
       "      <td>0.0</td>\n",
       "      <td>0.0</td>\n",
       "      <td>0.0</td>\n",
       "    </tr>\n",
       "    <tr>\n",
       "      <th>14639</th>\n",
       "      <td>0.0</td>\n",
       "      <td>0.0</td>\n",
       "      <td>0.0</td>\n",
       "      <td>0.0</td>\n",
       "      <td>0.0</td>\n",
       "      <td>0.0</td>\n",
       "      <td>0.0</td>\n",
       "      <td>0.0</td>\n",
       "      <td>0.0</td>\n",
       "      <td>0.0</td>\n",
       "      <td>...</td>\n",
       "      <td>0.0</td>\n",
       "      <td>0.0</td>\n",
       "      <td>0.0</td>\n",
       "      <td>0.0</td>\n",
       "      <td>0.0</td>\n",
       "      <td>0.0</td>\n",
       "      <td>0.0</td>\n",
       "      <td>0.0</td>\n",
       "      <td>0.0</td>\n",
       "      <td>0.0</td>\n",
       "    </tr>\n",
       "  </tbody>\n",
       "</table>\n",
       "<p>14640 rows × 15051 columns</p>\n",
       "</div>"
      ],
      "text/plain": [
       "        00  000  000114  000419  000ft  000lbs  0011  0016  00a  00am  ...  \\\n",
       "0      0.0  0.0     0.0     0.0    0.0     0.0   0.0   0.0  0.0   0.0  ...   \n",
       "1      0.0  0.0     0.0     0.0    0.0     0.0   0.0   0.0  0.0   0.0  ...   \n",
       "2      0.0  0.0     0.0     0.0    0.0     0.0   0.0   0.0  0.0   0.0  ...   \n",
       "3      0.0  0.0     0.0     0.0    0.0     0.0   0.0   0.0  0.0   0.0  ...   \n",
       "4      0.0  0.0     0.0     0.0    0.0     0.0   0.0   0.0  0.0   0.0  ...   \n",
       "...    ...  ...     ...     ...    ...     ...   ...   ...  ...   ...  ...   \n",
       "14635  0.0  0.0     0.0     0.0    0.0     0.0   0.0   0.0  0.0   0.0  ...   \n",
       "14636  0.0  0.0     0.0     0.0    0.0     0.0   0.0   0.0  0.0   0.0  ...   \n",
       "14637  0.0  0.0     0.0     0.0    0.0     0.0   0.0   0.0  0.0   0.0  ...   \n",
       "14638  0.0  0.0     0.0     0.0    0.0     0.0   0.0   0.0  0.0   0.0  ...   \n",
       "14639  0.0  0.0     0.0     0.0    0.0     0.0   0.0   0.0  0.0   0.0  ...   \n",
       "\n",
       "       zrh_airport  zsdgzydnde  zsuztnaijq  ztrdwv0n4l  zukes  zurich  \\\n",
       "0              0.0         0.0         0.0         0.0    0.0     0.0   \n",
       "1              0.0         0.0         0.0         0.0    0.0     0.0   \n",
       "2              0.0         0.0         0.0         0.0    0.0     0.0   \n",
       "3              0.0         0.0         0.0         0.0    0.0     0.0   \n",
       "4              0.0         0.0         0.0         0.0    0.0     0.0   \n",
       "...            ...         ...         ...         ...    ...     ...   \n",
       "14635          0.0         0.0         0.0         0.0    0.0     0.0   \n",
       "14636          0.0         0.0         0.0         0.0    0.0     0.0   \n",
       "14637          0.0         0.0         0.0         0.0    0.0     0.0   \n",
       "14638          0.0         0.0         0.0         0.0    0.0     0.0   \n",
       "14639          0.0         0.0         0.0         0.0    0.0     0.0   \n",
       "\n",
       "       zv2pt6trk9  zv6cfpohl5  zvfmxnuelj  zzps5ywve2  \n",
       "0             0.0         0.0         0.0         0.0  \n",
       "1             0.0         0.0         0.0         0.0  \n",
       "2             0.0         0.0         0.0         0.0  \n",
       "3             0.0         0.0         0.0         0.0  \n",
       "4             0.0         0.0         0.0         0.0  \n",
       "...           ...         ...         ...         ...  \n",
       "14635         0.0         0.0         0.0         0.0  \n",
       "14636         0.0         0.0         0.0         0.0  \n",
       "14637         0.0         0.0         0.0         0.0  \n",
       "14638         0.0         0.0         0.0         0.0  \n",
       "14639         0.0         0.0         0.0         0.0  \n",
       "\n",
       "[14640 rows x 15051 columns]"
      ]
     },
     "execution_count": 39,
     "metadata": {},
     "output_type": "execute_result"
    }
   ],
   "source": [
    "# TfidfVectorizer\n",
    "vect = TfidfVectorizer()\n",
    "pd.DataFrame(vect.fit_transform(X).toarray(), columns=vect.get_feature_names())"
   ]
  },
  {
   "cell_type": "code",
   "execution_count": 42,
   "metadata": {},
   "outputs": [
    {
     "data": {
      "text/plain": [
       "(14640, 292363)"
      ]
     },
     "execution_count": 42,
     "metadata": {},
     "output_type": "execute_result"
    }
   ],
   "source": [
    "#  TfidfVectorizer Sin Stop Words, con ngrams\n",
    "tfidf_counts = TfidfVectorizer(stop_words='english',\n",
    "                             ngram_range=(1,4))\n",
    "tfidf_data = tfidf_counts.fit_transform(X)\n",
    "tfidf_data.shape"
   ]
  },
  {
   "cell_type": "code",
   "execution_count": 43,
   "metadata": {},
   "outputs": [
    {
     "data": {
      "text/plain": [
       "count    10.000000\n",
       "mean      0.699590\n",
       "std       0.032869\n",
       "min       0.619536\n",
       "25%       0.690232\n",
       "50%       0.703893\n",
       "75%       0.717042\n",
       "max       0.740437\n",
       "dtype: float64"
      ]
     },
     "execution_count": 43,
     "metadata": {},
     "output_type": "execute_result"
    }
   ],
   "source": [
    "#RAndomForest Sin Stop Words, con ngrams\n",
    "clf = RandomForestClassifier()\n",
    "clf\n",
    "pd.Series(cross_val_score(clf, tfidf_data, y, cv=10)).describe()"
   ]
  },
  {
   "cell_type": "markdown",
   "metadata": {},
   "source": [
    "Al emplear TfIDF, el Accuracy promedio calculado con Random Forest y CrossValidation (k=10), es el más bajo de todos los calculados en este ejercicio: 69.95%."
   ]
  },
  {
   "cell_type": "code",
   "execution_count": 44,
   "metadata": {},
   "outputs": [
    {
     "data": {
      "text/plain": [
       "(14640, 483199)"
      ]
     },
     "execution_count": 44,
     "metadata": {},
     "output_type": "execute_result"
    }
   ],
   "source": [
    "#Dejando stopwords\n",
    "#  TfidfVectorizer con Stop Words, con ngrams\n",
    "tfidf_counts = TfidfVectorizer(ngram_range=(1,4))\n",
    "tfidf_data2 = tfidf_counts.fit_transform(X)\n",
    "tfidf_data2.shape"
   ]
  },
  {
   "cell_type": "code",
   "execution_count": 45,
   "metadata": {},
   "outputs": [
    {
     "data": {
      "text/plain": [
       "count    10.000000\n",
       "mean      0.713456\n",
       "std       0.019460\n",
       "min       0.683060\n",
       "25%       0.699454\n",
       "50%       0.715505\n",
       "75%       0.724214\n",
       "max       0.743169\n",
       "dtype: float64"
      ]
     },
     "execution_count": 45,
     "metadata": {},
     "output_type": "execute_result"
    }
   ],
   "source": [
    "#RAndomForest sin quitar Stop Words, con ngrams\n",
    "clf = RandomForestClassifier()\n",
    "clf\n",
    "pd.Series(cross_val_score(clf, tfidf_data2, y, cv=10)).describe()"
   ]
  },
  {
   "cell_type": "markdown",
   "metadata": {},
   "source": [
    "Al dejar los stopwords en los textos, el Accuracy promedio mejora un poco a 71.34%."
   ]
  },
  {
   "cell_type": "code",
   "execution_count": 46,
   "metadata": {},
   "outputs": [
    {
     "data": {
      "text/plain": [
       "(14640, 5000)"
      ]
     },
     "execution_count": 46,
     "metadata": {},
     "output_type": "execute_result"
    }
   ],
   "source": [
    "#Usando Max Features\n",
    "#  TfidfVectorizer con Stop Words, con ngrams\n",
    "tfidf_counts = TfidfVectorizer(ngram_range=(1,4), max_features=5000)\n",
    "tfidf_data3 = tfidf_counts.fit_transform(X)\n",
    "tfidf_data3.shape"
   ]
  },
  {
   "cell_type": "code",
   "execution_count": 47,
   "metadata": {},
   "outputs": [
    {
     "data": {
      "text/plain": [
       "count    10.000000\n",
       "mean      0.729918\n",
       "std       0.023922\n",
       "min       0.684426\n",
       "25%       0.718408\n",
       "50%       0.731899\n",
       "75%       0.745219\n",
       "max       0.762978\n",
       "dtype: float64"
      ]
     },
     "execution_count": 47,
     "metadata": {},
     "output_type": "execute_result"
    }
   ],
   "source": [
    "#RAndomForest con Stop Words, con ngrams\n",
    "clf = RandomForestClassifier()\n",
    "clf\n",
    "pd.Series(cross_val_score(clf, tfidf_data3, y, cv=10)).describe()"
   ]
  },
  {
   "cell_type": "markdown",
   "metadata": {},
   "source": [
    "Tomando como aprendizaje la comparación anterior, en este caso no se quitan los stopwords, se dejan ngrams (1 a 4)  pero además se activa la el parámetro max_features. En este caso Accuracy promedio mejora a 72.99%, cual permite concluir que esta combinación es mucho más conveniente."
   ]
  }
 ],
 "metadata": {
  "kernelspec": {
   "display_name": "Python 3",
   "language": "python",
   "name": "python3"
  },
  "language_info": {
   "codemirror_mode": {
    "name": "ipython",
    "version": 3
   },
   "file_extension": ".py",
   "mimetype": "text/x-python",
   "name": "python",
   "nbconvert_exporter": "python",
   "pygments_lexer": "ipython3",
   "version": "3.7.1"
  }
 },
 "nbformat": 4,
 "nbformat_minor": 4
}
